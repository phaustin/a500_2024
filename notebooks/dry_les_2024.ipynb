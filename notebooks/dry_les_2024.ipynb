{
 "cells": [
  {
   "cell_type": "markdown",
   "id": "2c7250ef",
   "metadata": {},
   "source": [
    "# Working with LES data: dry boundary layer"
   ]
  },
  {
   "cell_type": "code",
   "execution_count": null,
   "id": "b468ef4d",
   "metadata": {
    "jupyter": {
     "outputs_hidden": false
    }
   },
   "outputs": [],
   "source": [
    "from pathlib import Path\n",
    "import matplotlib.pyplot as plt\n",
    "import numpy as np\n",
    "import xarray as xr\n",
    "\n",
    "the_file = Path.home() / \"Dropbox/phil_files/a500/data\" / \"case_60_10.nc\"\n",
    "if not the_file.exists():\n",
    "    raise ValueError(f\"{the_file} not found\")"
   ]
  },
  {
   "cell_type": "markdown",
   "id": "09b11049",
   "metadata": {},
   "source": [
    "## Find the netcdf file an dump its contents"
   ]
  },
  {
   "cell_type": "code",
   "execution_count": null,
   "id": "a0391cc0",
   "metadata": {},
   "outputs": [],
   "source": [
    "the_file"
   ]
  },
  {
   "cell_type": "code",
   "execution_count": null,
   "id": "43830d7c",
   "metadata": {},
   "outputs": [],
   "source": [
    "!ncdump -h /Users/phil/Dropbox/phil_files/a500/data/case_60_10.nc"
   ]
  },
  {
   "cell_type": "markdown",
   "id": "f5f24fd5",
   "metadata": {},
   "source": [
    "Netcdf file layout:  10 groups corresponding to 10 different ensemble members.  Small slice of larger domain of LES run with surface heat flux of 60 W/m^2 and stable layer with dT/dz = 10 K/km.  Snapshots every 10 minutes for 8 hours."
   ]
  },
  {
   "cell_type": "markdown",
   "id": "06d55089",
   "metadata": {},
   "source": [
    "## Open the first ensemble member c1\n",
    "\n",
    "Look at the last 5 values of z, pressure\n",
    "\n",
    "From the ncdump we know that there are global variables and attributes as\n",
    "well as the 10 ensemble members.  So get two xarray dataset pointers:\n",
    "\n",
    "- ds1 for the first ensemble member\n",
    "- the_ds for the global variables"
   ]
  },
  {
   "cell_type": "code",
   "execution_count": null,
   "id": "081fce85",
   "metadata": {
    "jupyter": {
     "outputs_hidden": false
    }
   },
   "outputs": [],
   "source": [
    "ds1 = xr.open_dataset(the_file,group=\"c1\")\n",
    "the_ds = xr.open_dataset(the_file)"
   ]
  },
  {
   "cell_type": "code",
   "execution_count": null,
   "id": "19a5276a",
   "metadata": {},
   "outputs": [],
   "source": [
    "the_ds['z'][-5:]"
   ]
  },
  {
   "cell_type": "code",
   "execution_count": null,
   "id": "7e441fa9",
   "metadata": {},
   "outputs": [],
   "source": [
    "ds1"
   ]
  },
  {
   "cell_type": "code",
   "execution_count": null,
   "id": "7b3c768f",
   "metadata": {},
   "outputs": [],
   "source": [
    "temp = ds1['TABS']\n",
    "wvel= ds1['W']\n",
    "z=the_ds['z']\n",
    "press=the_ds['press']"
   ]
  },
  {
   "cell_type": "markdown",
   "id": "f258aa70",
   "metadata": {},
   "source": [
    "## dump height and pressure"
   ]
  },
  {
   "cell_type": "code",
   "execution_count": null,
   "id": "57ea716a",
   "metadata": {},
   "outputs": [],
   "source": [
    "(z[-5:].data,press[-5:].data)"
   ]
  },
  {
   "cell_type": "markdown",
   "id": "8e404d21",
   "metadata": {},
   "source": [
    "## Function to convert to $\\theta$"
   ]
  },
  {
   "cell_type": "code",
   "execution_count": null,
   "id": "ff5b8f39",
   "metadata": {
    "jupyter": {
     "outputs_hidden": false
    }
   },
   "outputs": [],
   "source": [
    "def make_theta(temp,press):\n",
    "    \"\"\"\n",
    "      temp in K\n",
    "      press in Pa\n",
    "      returns theta in K\n",
    "    \"\"\"\n",
    "    p0=1.e5\n",
    "    Rd=287.\n",
    "    cpd=1004.\n",
    "    theta=temp*(p0/press)**(Rd/cpd)\n",
    "    \n",
    "    return theta\n",
    "    "
   ]
  },
  {
   "cell_type": "markdown",
   "id": "032a022d",
   "metadata": {},
   "source": [
    "## Get the horizontal average"
   ]
  },
  {
   "cell_type": "code",
   "execution_count": null,
   "id": "ded22d6b",
   "metadata": {},
   "outputs": [],
   "source": [
    "temp_mean=temp.mean(dim=[\"x\",\"y\"])"
   ]
  },
  {
   "cell_type": "code",
   "execution_count": null,
   "id": "e61803fc",
   "metadata": {},
   "outputs": [],
   "source": [
    "temp_mean[0,-5:]"
   ]
  },
  {
   "cell_type": "code",
   "execution_count": null,
   "id": "f2dc64e8",
   "metadata": {},
   "outputs": [],
   "source": [
    "## Plot the timestep theta,height profiles for c1"
   ]
  },
  {
   "cell_type": "code",
   "execution_count": null,
   "id": "c423a77f",
   "metadata": {
    "jupyter": {
     "outputs_hidden": false
    }
   },
   "outputs": [],
   "source": [
    "fig,ax=plt.subplots(1,1,figsize=(8,8))\n",
    "ntimes, nheights = temp_mean.shape\n",
    "for i in np.arange(0,ntimes,3):\n",
    "    theta = make_theta(temp_mean[i,:],press)\n",
    "    ax.plot(theta,z)\n",
    "ax.set(xlabel=r'$\\overline{\\theta}$ (K)',ylabel='height (m)',\n",
    "       title='LES dry run:  surface flux=60 $W\\,m^{-2}$, $\\Gamma$=10 K/km');\n",
    "\n",
    "    "
   ]
  },
  {
   "cell_type": "markdown",
   "id": "26ea503c",
   "metadata": {},
   "source": [
    "## Assignment -- targeting Tuesday"
   ]
  },
  {
   "cell_type": "markdown",
   "id": "4aa4c5d9",
   "metadata": {},
   "source": [
    "- Write functions that find the ensemble mean $\\langle \\zeta \\rangle$ and the perturbation about that mean $\\zeta^\\prime$ an arbitrary variable $\\zeta$\n",
    "- Use those functions to calculate the horizontally averaged vertical entropy flux $\\overline{w^\\prime\\,\\theta^\\prime}$ as a function of height and make a plot similar to the figure above"
   ]
  },
  {
   "cell_type": "code",
   "execution_count": null,
   "id": "8d2e1299",
   "metadata": {},
   "outputs": [],
   "source": []
  }
 ],
 "metadata": {
  "kernelspec": {
   "display_name": "Python 3 (ipykernel)",
   "language": "python",
   "name": "python3"
  }
 },
 "nbformat": 4,
 "nbformat_minor": 5
}
