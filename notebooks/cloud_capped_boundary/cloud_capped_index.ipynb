{
 "cells": [
  {
   "cell_type": "markdown",
   "id": "6d8403b7-c8fd-47a1-b2f0-a0dfe513b2d6",
   "metadata": {},
   "source": [
    "(cloud_capped_index)=\n",
    "# Cloud capped boundary layer\n",
    "\n",
    "This is the table of contents for a series of notebooks that show how to build a mixed layer model that includes moist thermodynamics and entrainment"
   ]
  },
  {
   "cell_type": "markdown",
   "id": "eaa734d5-8ce5-44bd-99d1-9aa2803f0328",
   "metadata": {},
   "source": [
    "## References"
   ]
  },
  {
   "cell_type": "markdown",
   "id": "5c09c013-43c7-4449-bece-0677bae3abfe",
   "metadata": {},
   "source": [
    "- [Stull BLM Chapter 13](https://www.dropbox.com/scl/fi/yaxd27icivz7a7qu7tifn/stull_blm_springer.pdf?rlkey=v0hqkqvd9v8rpcqfxmq62tt10&dl=0)\n",
    "- "
   ]
  }
 ],
 "metadata": {
  "jupytext": {
   "formats": "ipynb,md:myst"
  },
  "kernelspec": {
   "display_name": "Python 3 (ipykernel)",
   "language": "python",
   "name": "python3"
  },
  "language_info": {
   "codemirror_mode": {
    "name": "ipython",
    "version": 3
   },
   "file_extension": ".py",
   "mimetype": "text/x-python",
   "name": "python",
   "nbconvert_exporter": "python",
   "pygments_lexer": "ipython3",
   "version": "3.11.7"
  }
 },
 "nbformat": 4,
 "nbformat_minor": 5
}
