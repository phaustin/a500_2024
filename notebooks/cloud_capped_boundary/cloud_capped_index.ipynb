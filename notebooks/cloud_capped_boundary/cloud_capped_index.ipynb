{
 "cells": [
  {
   "cell_type": "markdown",
   "id": "6d8403b7-c8fd-47a1-b2f0-a0dfe513b2d6",
   "metadata": {},
   "source": [
    "(cloud_capped_index)=\n",
    "# Cloud capped boundary layer\n",
    "\n",
    "This is the table of contents for a series of notebooks that show how to build a mixed layer model that includes moist thermodynamics and entrainment"
   ]
  },
  {
   "cell_type": "markdown",
   "id": "eaa734d5-8ce5-44bd-99d1-9aa2803f0328",
   "metadata": {},
   "source": [
    "## References"
   ]
  },
  {
   "cell_type": "markdown",
   "id": "5c09c013-43c7-4449-bece-0677bae3abfe",
   "metadata": {},
   "source": [
    "- [Stull BLM Chapter 13](https://www.dropbox.com/scl/fi/yaxd27icivz7a7qu7tifn/stull_blm_springer.pdf?rlkey=v0hqkqvd9v8rpcqfxmq62tt10&dl=0)\n",
    "- [de Roode chapter 5](https://www.dropbox.com/scl/fi/n6scqt3wql8otdfvsif1r/de_roode_clouds.pdf?rlkey=v82zcoh7doaib9xvy1mjh8zj1&dl=0)\n",
    "- [Stevens entrainment review](https://www.dropbox.com/scl/fi/41n9v7pj3x0n2tu27ca4o/Stevens-2002-Quarterly_Journal_of_the_Royal_Meteorological_Society.pdf?rlkey=u5705q214gzpe3r94doozyrqy&dl=0)"
   ]
  },
  {
   "cell_type": "markdown",
   "id": "281502b5-602b-4e9e-a2e5-382691d43f57",
   "metadata": {},
   "source": [
    "## Notebook 1\n",
    "\n",
    "- {ref}`mixed_layer_jump` demonstrates that diagnosing and predicting the jump $\\Delta \\theta$ at the top of the mixed layer is equivalent in dry boundary layers\n",
    "- {ref}`add_subsidence` shows how a boundary layer equilibrates when subsidence is included"
   ]
  },
  {
   "cell_type": "code",
   "execution_count": null,
   "id": "02ea1bd3-25bd-40cb-81f8-e93490118e09",
   "metadata": {},
   "outputs": [],
   "source": []
  }
 ],
 "metadata": {
  "jupytext": {
   "formats": "ipynb,md:myst"
  },
  "kernelspec": {
   "display_name": "Python 3 (ipykernel)",
   "language": "python",
   "name": "python3"
  },
  "language_info": {
   "codemirror_mode": {
    "name": "ipython",
    "version": 3
   },
   "file_extension": ".py",
   "mimetype": "text/x-python",
   "name": "python",
   "nbconvert_exporter": "python",
   "pygments_lexer": "ipython3",
   "version": "3.11.7"
  }
 },
 "nbformat": 4,
 "nbformat_minor": 5
}
