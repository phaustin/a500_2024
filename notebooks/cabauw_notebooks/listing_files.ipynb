{
 "cells": [
  {
   "cell_type": "markdown",
   "id": "98f73d26-4d91-469f-b024-9738d73bd81a",
   "metadata": {},
   "source": [
    "# listing files and downloading\n",
    "\n",
    "Adapted from this [KNMI example](https://developer.dataplatform.knmi.nl/open-data-api#example-last)"
   ]
  },
  {
   "cell_type": "code",
   "execution_count": 13,
   "id": "8004b393-0768-419c-93c0-482c213b7849",
   "metadata": {},
   "outputs": [
    {
     "name": "stderr",
     "output_type": "stream",
     "text": [
      "INFO:__main__:Fetching first file of Actuele10mindataKNMIstations version 2 on 2024-03-07T00:00:00+00:00\n"
     ]
    },
    {
     "name": "stdout",
     "output_type": "stream",
     "text": [
      "eyJvcmciOiI1ZTU1NGUxOTI3NGE5NjAwMDEyYTNlYjEiLCJpZCI6IjNlZDU0YTdlZjk0OTRlM2Q4NWQzZGI5ZjdmYmU0ZmZkIiwiaCI6Im11cm11cjEyOCJ9\n"
     ]
    },
    {
     "name": "stderr",
     "output_type": "stream",
     "text": [
      "INFO:__main__:First file of 2024-03-07T00:00:00+00:00 is: KMDS__OPER_P___10M_OBS_L2_202403070000.nc\n",
      "INFO:__main__:Successfully downloaded dataset file to KMDS__OPER_P___10M_OBS_L2_202403070000.nc\n"
     ]
    }
   ],
   "source": [
    "import logging\n",
    "import sys\n",
    "from datetime import datetime\n",
    "from datetime import timezone\n",
    "\n",
    "import requests\n",
    "\n",
    "logging.basicConfig()\n",
    "logger = logging.getLogger(__name__)\n",
    "logger.setLevel(\"INFO\")\n",
    "\n",
    "json_file = Path.home()/ '.knmi_key.json'\n",
    "write=False\n",
    "if write:\n",
    "    #\n",
    "    # uncomment the line below and add your key the first time to create .knmi_key.json\n",
    "    # don't check code with your api key into github, instead\n",
    "    # read it from the json file\n",
    "    #\n",
    "    # knmi_key=xxxxxxxxx\n",
    "    #\n",
    "    with open(json_file,'w') as outfile:\n",
    "        json.dump(knmi_dict,outfile)\n",
    "\n",
    "with open(json_file,'r') as infile:\n",
    "    api_dict = json.load(infile)\n",
    "api_key = api_dict['knmi_api']\n",
    "print(api_key)\n",
    "\n",
    "\n",
    "\n",
    "class OpenDataAPI:\n",
    "    def __init__(self, api_token: str):\n",
    "        self.base_url = \"https://api.dataplatform.knmi.nl/open-data/v1\"\n",
    "        self.headers = {\"Authorization\": api_key}\n",
    "\n",
    "    def __get_data(self, url, params=None):\n",
    "        return requests.get(url, headers=self.headers, params=params).json()\n",
    "\n",
    "    def list_files(self, dataset_name: str, dataset_version: str, params: dict):\n",
    "        return self.__get_data(\n",
    "            f\"{self.base_url}/datasets/{dataset_name}/versions/{dataset_version}/files\",\n",
    "            params=params,\n",
    "        )\n",
    "\n",
    "    def get_file_url(self, dataset_name: str, dataset_version: str, file_name: str):\n",
    "        return self.__get_data(\n",
    "            f\"{self.base_url}/datasets/{dataset_name}/versions/{dataset_version}/files/{file_name}/url\"\n",
    "        )\n",
    "\n",
    "\n",
    "def download_file_from_temporary_download_url(download_url, filename):\n",
    "    try:\n",
    "        with requests.get(download_url, stream=True) as r:\n",
    "            r.raise_for_status()\n",
    "            with open(filename, \"wb\") as f:\n",
    "                for chunk in r.iter_content(chunk_size=8192):\n",
    "                    f.write(chunk)\n",
    "    except Exception:\n",
    "        logger.exception(\"Unable to download file using download URL\")\n",
    "        sys.exit(1)\n",
    "\n",
    "    logger.info(f\"Successfully downloaded dataset file to {filename}\")\n",
    "\n",
    "\n",
    "def main():\n",
    "    dataset_name = \"Actuele10mindataKNMIstations\"\n",
    "    dataset_version = \"2\"\n",
    "\n",
    "    api = OpenDataAPI(api_token=api_key)\n",
    "\n",
    "    timestamp = datetime.now(timezone.utc).date().strftime(\"%Y-%m-%dT%H:%M:%S+00:00\")\n",
    "    logger.info(f\"Fetching first file of {dataset_name} version {dataset_version} on {timestamp}\")\n",
    "\n",
    "    # order the files by creation date and begin listing after the specified timestamp\n",
    "    params = {\"orderBy\": \"created\", \"begin\": timestamp}\n",
    "    response = api.list_files(dataset_name, dataset_version, params)\n",
    "    if \"error\" in response:\n",
    "        logger.error(f\"Unable to retrieve list of files: {response['error']}\")\n",
    "        sys.exit(1)\n",
    "\n",
    "    file_name = response[\"files\"][0].get(\"filename\")\n",
    "    logger.info(f\"First file of {timestamp} is: {file_name}\")\n",
    "\n",
    "    # fetch the download url and download the file\n",
    "    response = api.get_file_url(dataset_name, dataset_version, file_name)\n",
    "    download_file_from_temporary_download_url(response[\"temporaryDownloadUrl\"], file_name)\n",
    "\n",
    "\n",
    "if __name__ == \"__main__\":\n",
    "    main()\n"
   ]
  },
  {
   "cell_type": "markdown",
   "id": "ad1b0086-a783-470c-9132-3cfe17488dec",
   "metadata": {},
   "source": [
    "\n"
   ]
  },
  {
   "cell_type": "code",
   "execution_count": null,
   "id": "93bebdb1-c556-4b87-86f8-bfbeb841edb6",
   "metadata": {},
   "outputs": [],
   "source": []
  },
  {
   "cell_type": "code",
   "execution_count": null,
   "id": "05204f5e-4908-45de-b8b8-b6a33c301f4b",
   "metadata": {},
   "outputs": [],
   "source": []
  }
 ],
 "metadata": {
  "kernelspec": {
   "display_name": "Python 3 (ipykernel)",
   "language": "python",
   "name": "python3"
  },
  "language_info": {
   "codemirror_mode": {
    "name": "ipython",
    "version": 3
   },
   "file_extension": ".py",
   "mimetype": "text/x-python",
   "name": "python",
   "nbconvert_exporter": "python",
   "pygments_lexer": "ipython3",
   "version": "3.11.7"
  }
 },
 "nbformat": 4,
 "nbformat_minor": 5
}
