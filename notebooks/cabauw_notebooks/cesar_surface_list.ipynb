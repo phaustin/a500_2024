{
 "cells": [
  {
   "cell_type": "markdown",
   "id": "f8963d3c-e9db-448f-b039-7bf994ba63fc",
   "metadata": {},
   "source": [
    "(cesar_surface)=\n",
    "# Cabauw surface data"
   ]
  },
  {
   "cell_type": "code",
   "execution_count": 1,
   "id": "7149e446-0d0c-4049-b7f5-d9421517ef8c",
   "metadata": {},
   "outputs": [
    {
     "name": "stdout",
     "output_type": "stream",
     "text": [
      "cesar_surface_flux_lb1_t10_v1.0_202106.nc\n",
      "cesar_surface_flux_lb1_t10_v1.0_202105.nc\n",
      "cesar_surface_flux_lb1_t10_v1.0_202012.nc\n",
      "cesar_surface_flux_lb1_t10_v1.0_202011.nc\n",
      "cesar_surface_flux_lb1_t10_v1.0_202010.nc\n",
      "cesar_surface_flux_lb1_t10_v1.0_202009.nc\n",
      "cesar_surface_flux_lb1_t10_v1.0_202008.nc\n",
      "cesar_surface_flux_lb1_t10_v1.0_202007.nc\n",
      "cesar_surface_flux_lb1_t10_v1.0_202006.nc\n",
      "cesar_surface_flux_lb1_t10_v1.0_202005.nc\n"
     ]
    }
   ],
   "source": [
    "import requests\n",
    "from pathlib import Path\n",
    "import json\n",
    "\n",
    "json_file = Path.home()/ '.knmi_key.json'\n",
    "write=False\n",
    "if write:\n",
    "    #\n",
    "    # uncomment the line below and add your key the first time to create .knmi_key.json\n",
    "    # don't check code with your api key into github, instead\n",
    "    # read it from the json file\n",
    "    #\n",
    "    # knmi_key=xxxxxxxxx\n",
    "    #\n",
    "    with open(json_file,'w') as outfile:\n",
    "        json.dump(knmi_dict,outfile)\n",
    "\n",
    "private = False\n",
    "if private:\n",
    "    with open(json_file,'r') as infile:\n",
    "        api_dict = json.load(infile)\n",
    "    api_key = api_dict['knmi_api']\n",
    "else:\n",
    "    api_key=\"eyJvcmciOiI1ZTU1NGUxOTI3NGE5NjAwMDEyYTNlYjEiLCJpZCI6ImE1OGI5NGZmMDY5NDRhZDNhZjFkMDBmNDBmNTQyNjBkIiwiaCI6Im11cm11cjEyOCJ9\"\n",
    "\n",
    "headers = {\n",
    "    'accept': 'application/json',\n",
    "    'Authorization': api_key\n",
    "}\n",
    "\n",
    "\n",
    "params = {\n",
    "    'maxKeys': '10',\n",
    "    'sorting': 'desc',\n",
    "    'orderBy': 'filename',\n",
    "}\n",
    "\n",
    "response = requests.get(\n",
    "    'https://api.dataplatform.knmi.nl/open-data/v1/datasets/cesar_surface_flux_lb1_t10/versions/v1.0/files',\n",
    "    params=params,\n",
    "    headers=headers,\n",
    ")\n",
    "out = response.json()\n",
    "for the_file in out[\"files\"]:\n",
    "    print(the_file.get(\"filename\"))"
   ]
  },
  {
   "cell_type": "code",
   "execution_count": null,
   "id": "d60d614a-7af4-47fd-9031-757937c2e878",
   "metadata": {},
   "outputs": [],
   "source": []
  }
 ],
 "metadata": {
  "jupytext": {
   "formats": "ipynb,md:myst"
  },
  "kernelspec": {
   "display_name": "Python 3 (ipykernel)",
   "language": "python",
   "name": "python3"
  },
  "language_info": {
   "codemirror_mode": {
    "name": "ipython",
    "version": 3
   },
   "file_extension": ".py",
   "mimetype": "text/x-python",
   "name": "python",
   "nbconvert_exporter": "python",
   "pygments_lexer": "ipython3",
   "version": "3.11.7"
  }
 },
 "nbformat": 4,
 "nbformat_minor": 5
}
