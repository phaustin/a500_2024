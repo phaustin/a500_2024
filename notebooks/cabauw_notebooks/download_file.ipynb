{
 "cells": [
  {
   "cell_type": "code",
   "execution_count": 4,
   "id": "0a70efab-d994-49a3-b918-fcbdb7407140",
   "metadata": {},
   "outputs": [
    {
     "name": "stderr",
     "output_type": "stream",
     "text": [
      "INFO:__main__:Fetching latest file of cesar_surface_flux_lb1_t10 version 1.0\n"
     ]
    },
    {
     "name": "stdout",
     "output_type": "stream",
     "text": [
      "eyJvcmciOiI1ZTU1NGUxOTI3NGE5NjAwMDEyYTNlYjEiLCJpZCI6IjNlZDU0YTdlZjk0OTRlM2Q4NWQzZGI5ZjdmYmU0ZmZkIiwiaCI6Im11cm11cjEyOCJ9\n"
     ]
    },
    {
     "ename": "KeyError",
     "evalue": "'files'",
     "output_type": "error",
     "traceback": [
      "\u001b[0;31m---------------------------------------------------------------------------\u001b[0m",
      "\u001b[0;31mKeyError\u001b[0m                                  Traceback (most recent call last)",
      "Cell \u001b[0;32mIn[4], line 91\u001b[0m\n\u001b[1;32m     87\u001b[0m     download_file_from_temporary_download_url(response[\u001b[38;5;124m\"\u001b[39m\u001b[38;5;124mtemporaryDownloadUrl\u001b[39m\u001b[38;5;124m\"\u001b[39m], latest_file)\n\u001b[1;32m     90\u001b[0m \u001b[38;5;28;01mif\u001b[39;00m \u001b[38;5;18m__name__\u001b[39m \u001b[38;5;241m==\u001b[39m \u001b[38;5;124m\"\u001b[39m\u001b[38;5;124m__main__\u001b[39m\u001b[38;5;124m\"\u001b[39m:\n\u001b[0;32m---> 91\u001b[0m     \u001b[43mmain\u001b[49m\u001b[43m(\u001b[49m\u001b[43m)\u001b[49m\n",
      "Cell \u001b[0;32mIn[4], line 82\u001b[0m, in \u001b[0;36mmain\u001b[0;34m()\u001b[0m\n\u001b[1;32m     79\u001b[0m     logger\u001b[38;5;241m.\u001b[39merror(\u001b[38;5;124mf\u001b[39m\u001b[38;5;124m\"\u001b[39m\u001b[38;5;124mUnable to retrieve list of files: \u001b[39m\u001b[38;5;132;01m{\u001b[39;00mresponse[\u001b[38;5;124m'\u001b[39m\u001b[38;5;124merror\u001b[39m\u001b[38;5;124m'\u001b[39m]\u001b[38;5;132;01m}\u001b[39;00m\u001b[38;5;124m\"\u001b[39m)\n\u001b[1;32m     80\u001b[0m     sys\u001b[38;5;241m.\u001b[39mexit(\u001b[38;5;241m1\u001b[39m)\n\u001b[0;32m---> 82\u001b[0m latest_file \u001b[38;5;241m=\u001b[39m \u001b[43mresponse\u001b[49m\u001b[43m[\u001b[49m\u001b[38;5;124;43m\"\u001b[39;49m\u001b[38;5;124;43mfiles\u001b[39;49m\u001b[38;5;124;43m\"\u001b[39;49m\u001b[43m]\u001b[49m[\u001b[38;5;241m0\u001b[39m]\u001b[38;5;241m.\u001b[39mget(\u001b[38;5;124m\"\u001b[39m\u001b[38;5;124mfilename\u001b[39m\u001b[38;5;124m\"\u001b[39m)\n\u001b[1;32m     83\u001b[0m logger\u001b[38;5;241m.\u001b[39minfo(\u001b[38;5;124mf\u001b[39m\u001b[38;5;124m\"\u001b[39m\u001b[38;5;124mLatest file is: \u001b[39m\u001b[38;5;132;01m{\u001b[39;00mlatest_file\u001b[38;5;132;01m}\u001b[39;00m\u001b[38;5;124m\"\u001b[39m)\n\u001b[1;32m     85\u001b[0m \u001b[38;5;66;03m# fetch the download url and download the file\u001b[39;00m\n",
      "\u001b[0;31mKeyError\u001b[0m: 'files'"
     ]
    }
   ],
   "source": [
    "# https://developer.dataplatform.knmi.nl/open-data-api#example-last\n",
    "import logging\n",
    "import os\n",
    "import sys\n",
    "import json\n",
    "from pathlib import Path\n",
    "\n",
    "import requests\n",
    "\n",
    "logging.basicConfig()\n",
    "logger = logging.getLogger(__name__)\n",
    "logger.setLevel(os.environ.get(\"LOG_LEVEL\", logging.INFO))\n",
    "\n",
    "json_file = Path.home()/ '.knmi_key.json'\n",
    "write=False\n",
    "if write:\n",
    "    #\n",
    "    # uncomment this the first time to create .knmi_key.json\n",
    "    # don't check code with your api key into github, instead\n",
    "    # read it from the json file\n",
    "    #\n",
    "    # knmi_key=xxxxxxxxx\n",
    "    #\n",
    "    with open(json_file,'w') as outfile:\n",
    "        json.dump(knmi_dict,outfile)\n",
    "\n",
    "with open(json_file,'r') as infile:\n",
    "    api_dict = json.load(infile)\n",
    "api_key = api_dict['knmi_api']\n",
    "print(api_key)\n",
    "\n",
    "class OpenDataAPI:\n",
    "    def __init__(self, api_token: str):\n",
    "        self.base_url = \"https://api.dataplatform.knmi.nl/open-data/v1\"\n",
    "        self.headers = {\"Authorization\": api_token}\n",
    "\n",
    "    def __get_data(self, url, params=None):\n",
    "        return requests.get(url, headers=self.headers, params=params).json()\n",
    "\n",
    "    def list_files(self, dataset_name: str, dataset_version: str, params: dict):\n",
    "        return self.__get_data(\n",
    "            f\"{self.base_url}/datasets/{dataset_name}/versions/{dataset_version}/files\",\n",
    "            params=params,\n",
    "        )\n",
    "\n",
    "    def get_file_url(self, dataset_name: str, dataset_version: str, file_name: str):\n",
    "        return self.__get_data(\n",
    "            f\"{self.base_url}/datasets/{dataset_name}/versions/{dataset_version}/files/{file_name}/url\"\n",
    "        )\n",
    "\n",
    "\n",
    "def download_file_from_temporary_download_url(download_url, filename):\n",
    "    try:\n",
    "        with requests.get(download_url, stream=True) as r:\n",
    "            r.raise_for_status()\n",
    "            with open(filename, \"wb\") as f:\n",
    "                for chunk in r.iter_content(chunk_size=8192):\n",
    "                    f.write(chunk)\n",
    "    except Exception:\n",
    "        logger.exception(\"Unable to download file using download URL\")\n",
    "        sys.exit(1)\n",
    "\n",
    "    logger.info(f\"Successfully downloaded dataset file to {filename}\")\n",
    "\n",
    "\n",
    "def main():\n",
    "    dataset_name = \"Actuele10mindataKNMIstations\"\n",
    "    dataset_name = \"cesar_surface_flux_lb1_t10\"\n",
    "    dataset_version = \"2\"\n",
    "    dataset_version = \"1.0\"\n",
    "    logger.info(f\"Fetching latest file of {dataset_name} version {dataset_version}\")\n",
    "\n",
    "    api = OpenDataAPI(api_token=api_key)\n",
    "\n",
    "    # sort the files in descending order and only retrieve the first file\n",
    "    params = {\"maxKeys\": 1, \"orderBy\": \"created\", \"sorting\": \"desc\"}\n",
    "    response = api.list_files(dataset_name, dataset_version, params)\n",
    "    if \"error\" in response:\n",
    "        logger.error(f\"Unable to retrieve list of files: {response['error']}\")\n",
    "        sys.exit(1)\n",
    "\n",
    "    latest_file = response[\"files\"][0].get(\"filename\")\n",
    "    logger.info(f\"Latest file is: {latest_file}\")\n",
    "\n",
    "    # fetch the download url and download the file\n",
    "    response = api.get_file_url(dataset_name, dataset_version, latest_file)\n",
    "    download_file_from_temporary_download_url(response[\"temporaryDownloadUrl\"], latest_file)\n",
    "\n",
    "\n",
    "if __name__ == \"__main__\":\n",
    "    main()\n"
   ]
  },
  {
   "cell_type": "code",
   "execution_count": null,
   "id": "6a2a24ac-2124-40c3-b8ac-a9f77d825710",
   "metadata": {},
   "outputs": [],
   "source": []
  }
 ],
 "metadata": {
  "kernelspec": {
   "display_name": "Python 3 (ipykernel)",
   "language": "python",
   "name": "python3"
  },
  "language_info": {
   "codemirror_mode": {
    "name": "ipython",
    "version": 3
   },
   "file_extension": ".py",
   "mimetype": "text/x-python",
   "name": "python",
   "nbconvert_exporter": "python",
   "pygments_lexer": "ipython3",
   "version": "3.11.7"
  }
 },
 "nbformat": 4,
 "nbformat_minor": 5
}
