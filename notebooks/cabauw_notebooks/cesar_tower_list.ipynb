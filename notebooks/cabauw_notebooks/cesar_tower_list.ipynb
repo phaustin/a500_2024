{
 "cells": [
  {
   "cell_type": "markdown",
   "id": "bb8caa51-ce71-49c0-a094-67aa74fcee11",
   "metadata": {},
   "source": [
    "(cesar_tower)=\n",
    "# Cabauw tower data\n",
    "\n",
    "The KNMI data server uses [REST](https://www.redhat.com/en/topics/api/what-is-a-rest-api) (representational state transfer) to return datasets from requests sent via http to the server.  In python, this is done using the \n",
    "[requests library](https://realpython.com/python-requests/).  Basically a restfull api sends and receives data using an html connection.  All the cloud data providers use rest for data uploads and downloads.  For example, here is the documentation for [AWS](https://boto3.amazonaws.com/v1/documentation/api/latest/guide/quickstart.html#using-boto3)\n",
    "\n",
    "Resources:\n",
    "\n",
    "- [KNMI api examples](https://developer.dataplatform.knmi.nl/open-data-api)\n",
    "- [openapi test page](https://tyk-cdn.dataplatform.knmi.nl/open-data/index.html)\n",
    "- [curl to python converter](https://curlconverter.com)\n",
    "- [Fifty years of atmospheric boundary layer research at Cabauw](https://link.springer.com/article/10.1007/s10546-020-00541-w)"
   ]
  },
  {
   "cell_type": "markdown",
   "id": "11876280-4f79-48ad-bf07-31b6f8788989",
   "metadata": {},
   "source": [
    "## Get a filelist\n",
    "\n",
    "- timestamp doesn't seem to matter, just get as many filenames as you need\n",
    "by incresing the 'maxKeys' parameter below\n",
    "- requires an api key from [here](https://developer.dataplatform.knmi.nl/open-data-api#token)"
   ]
  },
  {
   "cell_type": "code",
   "execution_count": 1,
   "id": "b849a426-97c5-46b4-baa4-9a63496391c4",
   "metadata": {},
   "outputs": [
    {
     "name": "stdout",
     "output_type": "stream",
     "text": [
      "2010-01-01T00:00:00+00:00\n",
      "cesar_tower_meteo_lb1_t10_v1.2_202311.nc\n",
      "cesar_tower_meteo_lb1_t10_v1.2_202310.nc\n",
      "cesar_tower_meteo_lb1_t10_v1.2_202308.nc\n",
      "cesar_tower_meteo_lb1_t10_v1.2_202307.nc\n",
      "cesar_tower_meteo_lb1_t10_v1.2_202306.nc\n",
      "cesar_tower_meteo_lb1_t10_v1.2_202304.nc\n",
      "cesar_tower_meteo_lb1_t10_v1.2_202301.nc\n",
      "cesar_tower_meteo_lb1_t10_v1.2_202210.nc\n",
      "cesar_tower_meteo_lb1_t10_v1.2_202209.nc\n",
      "cesar_tower_meteo_lb1_t10_v1.2_202208.nc\n"
     ]
    }
   ],
   "source": [
    "import requests\n",
    "import datetime\n",
    "from pathlib import Path\n",
    "import json\n",
    "\n",
    "json_file = Path.home()/ '.knmi_key.json'\n",
    "write=False\n",
    "if write:\n",
    "    #\n",
    "    # uncomment the line below and add your key the first time to create .knmi_key.json\n",
    "    # don't check code with your api key into github, instead\n",
    "    # read it from the json file\n",
    "    #\n",
    "    # knmi_key=xxxxxxxxx\n",
    "    #\n",
    "    with open(json_file,'w') as outfile:\n",
    "        json.dump(knmi_dict,outfile)\n",
    "\n",
    "with open(json_file,'r') as infile:\n",
    "    api_dict = json.load(infile)\n",
    "api_key = api_dict['knmi_api']\n",
    "\n",
    "headers = {\n",
    "    'accept': 'application/json',\n",
    "    'Authorization': api_key\n",
    "}\n",
    "\n",
    "#\n",
    "# looks like \"begin\" and \"end\" don't do anything -- it just gets all filenames\n",
    "#\n",
    "timestamp_begin = datetime.date(2010,1,1).strftime(\"%Y-%m-%dT%H:%M:%S+00:00\")\n",
    "timestamp_end = datetime.date(2010,4,1).strftime(\"%Y-%m-%dT%H:%M:%S+00:00\")\n",
    "print(f\"{timestamp_begin}\")\n",
    "params = {\n",
    "    'maxKeys': '10',\n",
    "    'sorting': 'desc',\n",
    "    'orderBy': 'filename',\n",
    "    'begin' : timestamp_begin\n",
    "}\n",
    "\n",
    "url = 'https://api.dataplatform.knmi.nl/open-data/v1/datasets/cesar_tower_meteo_lb1_t10/versions/v1.2/files'\n",
    "\n",
    "response = requests.get(\n",
    "    url,\n",
    "    params=params,\n",
    "    headers=headers,\n",
    ")\n",
    "out = response.json()\n",
    "for the_file in out[\"files\"]:\n",
    "    print(the_file.get(\"filename\"))"
   ]
  },
  {
   "cell_type": "markdown",
   "id": "dd0ef433-5090-41ca-ae93-b8d9704739dd",
   "metadata": {},
   "source": [
    "## Get the download url\n",
    "\n",
    "Once you know the filename, download it into a tempory file and\n",
    "rename it.  The request module takes a web address, parameters and headers and puts together a get request.  The server responds with a jason file that is then turned into a python dictionary.  One of the dictionary members gives the temporary url for the file to be downloaded."
   ]
  },
  {
   "cell_type": "code",
   "execution_count": 2,
   "id": "08f4c50b-4327-4468-aea3-c7b91cb4cab4",
   "metadata": {},
   "outputs": [
    {
     "name": "stdout",
     "output_type": "stream",
     "text": [
      "https://api.dataplatform.knmi.nl/open-data/v1/datasets/cesar_tower_meteo_lb1_t10/versions/v1.2/files/cesar_tower_meteo_lb1_t10_v1.2_200005.nc/url\n"
     ]
    }
   ],
   "source": [
    "filename = \"cesar_tower_meteo_lb1_t10_v1.2_200005.nc\"\n",
    "part1 = 'https://api.dataplatform.knmi.nl/open-data/v1/datasets/'\n",
    "part2 = f'cesar_tower_meteo_lb1_t10/versions/v1.2/files/{filename}/url'\n",
    "url = part1 + part2\n",
    "print(url)\n",
    "response = requests.get(\n",
    "    url,\n",
    "    params=params,\n",
    "    headers=headers,\n",
    ")\n",
    "out = response.json()\n",
    "download_url = out[\"temporaryDownloadUrl\"]"
   ]
  },
  {
   "cell_type": "markdown",
   "id": "89c61485-2ebc-4260-a818-e2d12a0b3bd8",
   "metadata": {},
   "source": [
    "## Read the file into a local version\n",
    "\n",
    "By setting \"stream=True\" we tell requests not to close the connection to the file, so we can repeatedly read chunks of data from the url and write the data to disk"
   ]
  },
  {
   "cell_type": "code",
   "execution_count": 3,
   "id": "ef44c91f-79b3-4906-b59f-ebcff90e5cfb",
   "metadata": {},
   "outputs": [],
   "source": [
    "filename = \"tower2_test.nc\"\n",
    "try:\n",
    "    with requests.get(download_url, stream=True) as r:\n",
    "        r.raise_for_status()\n",
    "        with open(filename, \"wb\") as f:\n",
    "            for chunk in r.iter_content(chunk_size=8192):\n",
    "                f.write(chunk)\n",
    "except Exception:\n",
    "    logger.exception(\"Unable to download file using download URL\")\n",
    "    sys.exit(1)"
   ]
  },
  {
   "cell_type": "code",
   "execution_count": null,
   "id": "828dff38-d85d-4423-899f-3ad400e60752",
   "metadata": {},
   "outputs": [],
   "source": []
  },
  {
   "cell_type": "code",
   "execution_count": null,
   "id": "54bcff66-0234-4e25-bfbb-6eadcc22c65a",
   "metadata": {},
   "outputs": [],
   "source": []
  }
 ],
 "metadata": {
  "jupytext": {
   "formats": "ipynb,md:myst"
  },
  "kernelspec": {
   "display_name": "Python 3 (ipykernel)",
   "language": "python",
   "name": "python3"
  },
  "language_info": {
   "codemirror_mode": {
    "name": "ipython",
    "version": 3
   },
   "file_extension": ".py",
   "mimetype": "text/x-python",
   "name": "python",
   "nbconvert_exporter": "python",
   "pygments_lexer": "ipython3",
   "version": "3.11.7"
  }
 },
 "nbformat": 4,
 "nbformat_minor": 5
}
