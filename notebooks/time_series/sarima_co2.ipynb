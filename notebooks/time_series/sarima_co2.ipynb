{
 "cells": [
  {
   "cell_type": "markdown",
   "id": "518c25e1",
   "metadata": {},
   "source": [
    "(sarima_co2)=\n",
    "# SARIMA-TimeSeries Analysis of Atmospheric CO2\n",
    "\n",
    "This notebook is replicated from the blog https://www.digitalocean.com/community/tutorials/a-guide-to-time-series-forecasting-with-arima-in-python-3 This tutorial will require the warnings, itertools, pandas, numpy, matplotlib and statsmodels libraries. The warnings and itertools libraries come included with the standard Python library set so we shouldn't need to install them.\n",
    "\n",
    "In this tutorial, we will aim to produce reliable forecasts of time series. We will begin by introducing and discussing the concepts of autocorrelation, stationarity, and seasonality, and proceed to apply one of the most commonly used method for time-series forecasting, known as ARIMA.\n",
    "\n",
    "One of the methods available in Python to model and predict future points of a time series is known as **SARIMAX**, which stands for **Seasonal AutoRegressive Integrated Moving Averages with eXogenous regressors**. Here, we will primarily focus on the ARIMA component, which is used to fit time-series data to better understand and forecast future points in the time series."
   ]
  },
  {
   "cell_type": "code",
   "execution_count": null,
   "id": "db58815b",
   "metadata": {},
   "outputs": [],
   "source": [
    "import warnings\n",
    "import itertools\n",
    "import pandas as pd\n",
    "import numpy as np\n",
    "import statsmodels.api as sm\n",
    "import statsmodels.tsa.api as smt\n",
    "import statsmodels.formula.api as smf\n",
    "import scipy.stats as scs\n",
    "import matplotlib.pyplot as plt\n",
    "plt.style.use('fivethirtyeight')"
   ]
  },
  {
   "cell_type": "markdown",
   "id": "2aff69b3",
   "metadata": {},
   "source": [
    "## Step 1 - Loading Time-series Data"
   ]
  },
  {
   "cell_type": "markdown",
   "id": "2a871959",
   "metadata": {},
   "source": [
    "We'll be working with a dataset called \"Atmospheric CO2 from Continuous Air Samples at Mauna Loa Observatory, Hawaii, U.S.A.,\" which collected CO2 samples from March 1958 to December 2001. We can bring in this data as follows:"
   ]
  },
  {
   "cell_type": "code",
   "execution_count": null,
   "id": "f6705c05",
   "metadata": {},
   "outputs": [],
   "source": [
    "data = sm.datasets.co2.load_pandas()\n",
    "df = data.data\n",
    "df.head(5)"
   ]
  },
  {
   "cell_type": "markdown",
   "id": "6213eea3",
   "metadata": {},
   "source": [
    "Let's preprocess our data a little bit before moving forward. Weekly data can be tricky to work with since it’s a briefer amount of time, so let's use monthly averages instead. We’ll make the conversion with the *resample* function. For simplicity, we can also use the *fillna()* function to ensure that we have no missing values in our time series."
   ]
  },
  {
   "cell_type": "code",
   "execution_count": null,
   "id": "07b1d323",
   "metadata": {},
   "outputs": [],
   "source": [
    "# The 'MS' string groups the data in buckets by start of the month\n",
    "ts = df['co2'].resample('MS').mean()\n",
    "ts.head(5)"
   ]
  },
  {
   "cell_type": "markdown",
   "id": "eb7c9397",
   "metadata": {},
   "source": [
    "## Step 2 - Indexing with Time-series Data"
   ]
  },
  {
   "cell_type": "code",
   "execution_count": null,
   "id": "a2e2b660",
   "metadata": {},
   "outputs": [],
   "source": [
    "ts.index"
   ]
  },
  {
   "cell_type": "markdown",
   "id": "dcf23108",
   "metadata": {},
   "source": [
    "With our data properly indexed for working with temporal data, we can move onto handling values that may be missing.\n",
    "\n",
    "## Step 3 - Handling Missing Values in Time-series Data\n",
    "\n",
    "Real world data tends be messy. As we can see from the plot, it is not uncommon for time-series data to contain missing values. The simplest way to check for those is either by directly plotting the data or by using the command below that will reveal missing data."
   ]
  },
  {
   "cell_type": "code",
   "execution_count": null,
   "id": "6a141ce1",
   "metadata": {},
   "outputs": [],
   "source": [
    "ts.isnull().sum()"
   ]
  },
  {
   "cell_type": "markdown",
   "id": "2e48ab75",
   "metadata": {},
   "source": [
    "This output tells us that there are 5 months with missing values in our time series.\n",
    "\n",
    "Generally, we should \"fill in\" missing values if they are not too numerous so that we don’t have gaps in the data. We can do this in pandas using the *fillna()* command. For simplicity, we can fill in missing values with the closest non-null value in our time series, although it is important to note that a rolling mean would sometimes be preferable."
   ]
  },
  {
   "cell_type": "code",
   "execution_count": null,
   "id": "69615c8a",
   "metadata": {},
   "outputs": [],
   "source": [
    "# The term bfill means that we use the value before filling in missing values\n",
    "ts = ts.fillna(ts.bfill())\n",
    "ts.head(5)"
   ]
  },
  {
   "cell_type": "markdown",
   "id": "fc50df9d",
   "metadata": {},
   "source": [
    "With missing values filled in, we can once again check to see whether any null values exist to make sure that our operation worked:"
   ]
  },
  {
   "cell_type": "code",
   "execution_count": null,
   "id": "9cc0b561",
   "metadata": {},
   "outputs": [],
   "source": [
    "ts.isnull().sum()"
   ]
  },
  {
   "cell_type": "markdown",
   "id": "ebab2c01",
   "metadata": {},
   "source": [
    "After performing these operations, we see that we have successfully filled in all missing values in our time series.\n",
    "\n",
    "## Step 4 - Visualizing Time-series Data\n",
    "\n",
    "When working with time-series data, a lot can be revealed through visualizing it. A few things to look out for are:\n",
    "\n",
    "+ **seasonality:** does the data display a clear periodic pattern?\n",
    "+ **trend:** does the data follow a consistent upwards or downward slope?\n",
    "+ **noise:** are there any outlier points or missing values that are not consistent with the rest of the data?"
   ]
  },
  {
   "cell_type": "code",
   "execution_count": null,
   "id": "f0f242ea",
   "metadata": {},
   "outputs": [],
   "source": [
    "plt.close()\n",
    "ts.plot(figsize=(10, 6))\n",
    "plt.show()"
   ]
  },
  {
   "cell_type": "markdown",
   "id": "7c7f55e9",
   "metadata": {},
   "source": [
    "Some distinguishable patterns appear when we plot the data. The time-series has an obvious seasonality pattern, as well as an overall increasing trend. We can also visualize our data using a method called time-series decomposition. As its name suggests, time series decomposition allows us to decompose our time series into three distinct components: trend, seasonality, and noise.\n",
    "\n",
    "Fortunately, *statsmodels* provides the convenient *seasonal_decompose* function to perform seasonal decomposition out of the box."
   ]
  },
  {
   "cell_type": "code",
   "execution_count": null,
   "id": "96ffa394",
   "metadata": {},
   "outputs": [],
   "source": [
    "decomposition = sm.tsa.seasonal_decompose(ts, model='additive')"
   ]
  },
  {
   "cell_type": "code",
   "execution_count": null,
   "id": "617cad4b",
   "metadata": {},
   "outputs": [],
   "source": [
    "from pylab import rcParams\n",
    "#rcParams['figure.figsize'] = 12, 10\n",
    "fig = decomposition.plot()\n",
    "fig.set_figwidth(12)\n",
    "fig.set_figheight(8)\n",
    "plt.show()"
   ]
  },
  {
   "cell_type": "markdown",
   "id": "35508c48",
   "metadata": {},
   "source": [
    "Using time-series decomposition makes it easier to quickly identify a changing mean or variation in the data. The plot above clearly shows the upwards trend of our data, along with its yearly seasonality. These can be used to understand the structure of our time-series. The intuition behind time-series decomposition is important, as many forecasting methods build upon this concept of structured decomposition to produce forecasts."
   ]
  },
  {
   "cell_type": "markdown",
   "id": "f471371a",
   "metadata": {},
   "source": [
    "## Step 5 - The ARIMA Time Series Model\n",
    "One of the most common methods used in time series forecasting is known as the ARIMA model, which stands for **A**uto**R**egressive **I**ntegrated **M**oving **A**verage. ARIMA is a model that can be fitted to time series data in order to better understand or predict future points in the series.\n",
    "\n",
    "There are three distinct integers (p, d, q) that are used to parametrize ARIMA models. Because of that, ARIMA models are denoted with the notation ARIMA(p, d, q). Together these three parameters account for seasonality, trend, and noise in datasets:\n",
    "\n",
    "+ **p** is the *auto-regressive* part of the model. It allows us to incorporate the effect of past values into our model. Intuitively, this would be similar to stating that it is likely to be warm tomorrow if it has been warm the past 3 days.\n",
    "\n",
    "\n",
    "+ **d** is the *integrated* part of the model. This includes terms in the model that incorporate the amount of differencing (i.e. the number of past time points to subtract from the current value) to apply to the time series. Intuitively, this would be similar to stating that it is likely to be same temperature tomorrow if the difference in temperature in the last three days has been very small.\n",
    "\n",
    "\n",
    "+ **q** is the *moving average* part of the model. This allows us to set the error of our model as a linear combination of the error values observed at previous time points in the past.\n",
    "\n",
    "When dealing with seasonal effects, we make use of the seasonal ARIMA, which is denoted as ARIMA(p,d,q)(P,D,Q)s. Here, (p, d, q) are the non-seasonal parameters described above, while (P, D, Q) follow the same definition but are applied to the seasonal component of the time series. The term s is the periodicity of the time series (4 for quarterly periods, 12 for yearly periods, etc.)."
   ]
  },
  {
   "cell_type": "markdown",
   "id": "5d612ca5",
   "metadata": {},
   "source": [
    "## Step 6 - Parameter Selection for the ARIMA Time Series Model\n",
    "\n",
    "When looking to fit time series data with a seasonal ARIMA model, our first goal is to find the values of ARIMA(p,d,q)(P,D,Q)s that optimize a metric of interest. There are many guidelines and best practices to achieve this goal, yet the correct parametrization of ARIMA models can be a painstaking manual process that requires domain expertise and time. Other statistical programming languages such as R provide automated ways to solve this issue, but those have yet to be ported over to Python. In this section, we will resolve this issue by writing Python code to programmatically select the optimal parameter values for our ARIMA(p,d,q)(P,D,Q)s time series model.\n",
    "\n",
    "We will use a \"grid search\" to iteratively explore different combinations of parameters. For each combination of parameters, we fit a new seasonal ARIMA model with the SARIMAX() function from the statsmodels module and assess its overall quality. Once we have explored the entire landscape of parameters, our optimal set of parameters will be the one that yields the best performance for our criteria of interest. Let's begin by generating the various combination of parameters that we wish to assess:"
   ]
  },
  {
   "cell_type": "code",
   "execution_count": null,
   "id": "e6f8a135",
   "metadata": {},
   "outputs": [],
   "source": [
    "# Define the p, d and q parameters to take any value between 0 and 2\n",
    "p = d = q = range(0, 2)\n",
    "\n",
    "# Generate all different combinations of p, d and q triplets\n",
    "pdq = list(itertools.product(p, d, q))\n",
    "\n",
    "# Generate all different combinations of seasonal p, q and q triplets\n",
    "seasonal_pdq = [(x[0], x[1], x[2], 12) for x in list(itertools.product(p, d, q))]\n",
    "\n",
    "print('Examples of parameter combinations for Seasonal ARIMA...')\n",
    "print('SARIMAX: {} x {}'.format(pdq[1], seasonal_pdq[1]))\n",
    "print('SARIMAX: {} x {}'.format(pdq[1], seasonal_pdq[2]))\n",
    "print('SARIMAX: {} x {}'.format(pdq[2], seasonal_pdq[3]))\n",
    "print('SARIMAX: {} x {}'.format(pdq[2], seasonal_pdq[4]))"
   ]
  },
  {
   "cell_type": "markdown",
   "id": "0f56a163",
   "metadata": {},
   "source": [
    "We can now use the triplets of parameters defined above to automate the process of training and evaluating ARIMA models on different combinations. In Statistics and Machine Learning, this process is known as grid search (or hyperparameter optimization) for model selection.\n",
    "\n",
    "When evaluating and comparing statistical models fitted with different parameters, each can be ranked against one another based on how well it fits the data or its ability to accurately predict future data points. We will use the AIC (Akaike Information Criterion) value, which is conveniently returned with ARIMA models fitted using statsmodels. The AIC measures how well a model fits the data while taking into account the overall complexity of the model. A model that fits the data very well while using lots of features will be assigned a larger AIC score than a model that uses fewer features to achieve the same goodness-of-fit. Therefore, we are interested in finding the model that yields the lowest AIC value.\n",
    "\n",
    "The code chunk below iterates through combinations of parameters and uses the SARIMAX function from statsmodels to fit the corresponding Seasonal ARIMA model. Here, the order argument specifies the (p, d, q) parameters, while the seasonal_order argument specifies the (P, D, Q, S) seasonal component of the Seasonal ARIMA model. After fitting each SARIMAX()model, the code prints out its respective AIC score."
   ]
  },
  {
   "cell_type": "code",
   "execution_count": null,
   "id": "fac4574b",
   "metadata": {},
   "outputs": [],
   "source": [
    "warnings.filterwarnings(\"ignore\") # specify to ignore warning messages\n",
    "\n",
    "best_aic = np.inf\n",
    "best_pdq = None\n",
    "best_seasonal_pdq = None\n",
    "\n",
    "for param in pdq:\n",
    "    for param_seasonal in seasonal_pdq:\n",
    "        \n",
    "        try:\n",
    "            model = sm.tsa.statespace.SARIMAX(ts,\n",
    "                                             order = param,\n",
    "                                             seasonal_order = param_seasonal,\n",
    "                                             enforce_stationarity=False,\n",
    "                                             enforce_invertibility=False)\n",
    "            results = model.fit()\n",
    "\n",
    "            # print(\"SARIMAX{}x{}12 - AIC:{}\".format(param, param_seasonal, results.aic))\n",
    "            if results.aic < best_aic:\n",
    "                best_aic = results.aic\n",
    "                best_pdq = param\n",
    "                best_seasonal_pdq = param_seasonal\n",
    "        except:\n",
    "            continue\n",
    "print(\"Best SARIMAX{}x{}12 model - AIC:{}\".format(best_pdq, best_seasonal_pdq, best_aic))"
   ]
  },
  {
   "cell_type": "markdown",
   "id": "760c9035",
   "metadata": {
    "collapsed": true,
    "jupyter": {
     "outputs_hidden": true
    }
   },
   "source": [
    "Because some parameter combinations may lead to numerical misspecifications, we explicitly disabled warning messages in order to avoid an overload of warning messages. These misspecifications can also lead to errors and throw an exception, so we make sure to catch these exceptions and ignore the parameter combinations that cause these issues.\n",
    "\n",
    "The output of our code suggests that SARIMAX(1, 1, 1)x(1, 1, 1, 12) yields the lowest AIC value of 277.78. We should therefore consider this to be optimal option out of all the models we have considered."
   ]
  },
  {
   "cell_type": "markdown",
   "id": "94374871",
   "metadata": {},
   "source": [
    "## Step 5 — Fitting an ARIMA Time Series Model\n",
    "\n",
    "Using grid search, we have identified the set of parameters that produces the best fitting model to our time series data. We can proceed to analyze this particular model in more depth.\n",
    "\n",
    "We'll start by plugging the optimal parameter values into a new SARIMAX model:"
   ]
  },
  {
   "cell_type": "code",
   "execution_count": null,
   "id": "dd53375c",
   "metadata": {},
   "outputs": [],
   "source": [
    "best_model = sm.tsa.statespace.SARIMAX(ts,\n",
    "                                      order=(1, 1, 1),\n",
    "                                      seasonal_order=(1, 1, 1, 12),\n",
    "                                      enforce_stationarity=False,\n",
    "                                      enforce_invertibility=False)\n",
    "results = best_model.fit()"
   ]
  },
  {
   "cell_type": "code",
   "execution_count": null,
   "id": "fca1ed21",
   "metadata": {},
   "outputs": [],
   "source": [
    "print(results.summary().tables[0])\n",
    "print(results.summary().tables[1])"
   ]
  },
  {
   "cell_type": "markdown",
   "id": "e745c3b8",
   "metadata": {},
   "source": [
    "The summary attribute that results from the output of SARIMAX returns a significant amount of information, but we'll focus our attention on the table of coefficients. The coef column shows the weight (i.e. importance) of each feature and how each one impacts the time series. The P>|z| column informs us of the significance of each feature weight. Here, each weight has a p-value lower or close to 0.05, so it is reasonable to retain all of them in our model.\n",
    "\n",
    "When fitting seasonal ARIMA models (and any other models for that matter), it is important to run model diagnostics to ensure that none of the assumptions made by the model have been violated. The plot_diagnostics object allows us to quickly generate model diagnostics and investigate for any unusual behavior."
   ]
  },
  {
   "cell_type": "code",
   "execution_count": null,
   "id": "6c1c5c20",
   "metadata": {},
   "outputs": [],
   "source": [
    "results.plot_diagnostics(figsize=(15,12))\n",
    "plt.show()"
   ]
  },
  {
   "cell_type": "markdown",
   "id": "2aa690da",
   "metadata": {},
   "source": [
    "Our primary concern is to ensure that the residuals of our model are uncorrelated and normally distributed with zero-mean. If the seasonal ARIMA model does not satisfy these properties, it is a good indication that it can be further improved.\n",
    "\n",
    "In this case, our model diagnostics suggests that the model residuals are normally distributed based on the following:\n",
    "\n",
    "+ In the top right plot, we see that the red KDE line follows closely with the N(0,1) line (where N(0,1)) is the standard notation for a normal distribution with mean 0 and standard deviation of 1). This is a good indication that the residuals are normally distributed.\n",
    "\n",
    "+ The qq-plot on the bottom left shows that the ordered distribution of residuals (blue dots) follows the linear trend of the samples taken from a standard normal distribution with N(0, 1). Again, this is a strong indication that the residuals are normally distributed.\n",
    "\n",
    "+ The residuals over time (top left plot) don't display any obvious seasonality and appear to be white noise. This is confirmed by the autocorrelation (i.e. correlogram) plot on the bottom right, which shows that the time series residuals have low correlation with lagged versions of itself.\n",
    "\n",
    "Those observations lead us to conclude that our model produces a satisfactory fit that could help us understand our time series data and forecast future values.\n",
    "\n",
    "Although we have a satisfactory fit, some parameters of our seasonal ARIMA model could be changed to improve our model fit. For example, our grid search only considered a restricted set of parameter combinations, so we may find better models if we widened the grid search."
   ]
  },
  {
   "cell_type": "markdown",
   "id": "0f96fd41",
   "metadata": {},
   "source": [
    "## Step 6 - Validating Forecasts\n",
    "\n",
    "We have obtained a model for our time series that can now be used to produce forecasts. We start by comparing predicted values to real values of the time series, which will help us understand the accuracy of our forecasts. The get_prediction() and conf_int() attributes allow us to obtain the values and associated confidence intervals for forecasts of the time series."
   ]
  },
  {
   "cell_type": "code",
   "execution_count": null,
   "id": "e081caf3",
   "metadata": {},
   "outputs": [],
   "source": [
    "pred = results.get_prediction(start=pd.to_datetime('1998-01-01'), dynamic=False)\n",
    "pred_ci = pred.conf_int()"
   ]
  },
  {
   "cell_type": "code",
   "execution_count": null,
   "id": "04f9fe2f",
   "metadata": {},
   "outputs": [],
   "source": [
    "pred_ci.head(5)"
   ]
  },
  {
   "cell_type": "markdown",
   "id": "608e4e65",
   "metadata": {},
   "source": [
    "The code above requires the forecasts to start at January 1998.\n",
    "\n",
    "The dynamic=False argument ensures that we produce one-step ahead forecasts, meaning that forecasts at each point are generated using the full history up to that point.\n",
    "\n",
    "We can plot the real and forecasted values of the CO<sub>2</sub> time series to assess how well we did. Notice how we zoomed in on the end of the time series by slicing the date index."
   ]
  },
  {
   "cell_type": "code",
   "execution_count": null,
   "id": "5b4b45c3",
   "metadata": {},
   "outputs": [],
   "source": [
    "plt.close()\n",
    "axis = ts['1990':].plot(figsize=(10, 6))\n",
    "pred.predicted_mean.plot(ax=axis, label='One-step ahead Forecast', alpha=0.7)\n",
    "axis.fill_between(pred_ci.index, pred_ci.iloc[:, 0], pred_ci.iloc[:, 1], color='k', alpha=.25)\n",
    "axis.set_xlabel('Date')\n",
    "axis.set_ylabel('CO2 Levels')\n",
    "plt.legend(loc='best')\n",
    "plt.show()"
   ]
  },
  {
   "cell_type": "markdown",
   "id": "3b916269",
   "metadata": {},
   "source": [
    "Overall, our forecasts align with the true values very well, showing an overall increase trend.\n",
    "\n",
    "It is also useful to quantify the accuracy of our forecasts. We will use the MSE (Mean Squared Error), which summarizes the average error of our forecasts. For each predicted value, we compute its distance to the true value and square the result. The results need to be squared so that positive/negative differences do not cancel each other out when we compute the overall mean."
   ]
  },
  {
   "cell_type": "code",
   "execution_count": null,
   "id": "52f8b94a",
   "metadata": {},
   "outputs": [],
   "source": [
    "ts_forecasted = pred.predicted_mean\n",
    "ts_truth = ts['1998-01-01':]\n",
    "\n",
    "# Compute the mean sqaure error\n",
    "mse = ((ts_forecasted - ts_truth) ** 2).mean()\n",
    "print('The Mean Squared Error of our forecasts is {}'.format(round(mse, 2)))"
   ]
  },
  {
   "cell_type": "markdown",
   "id": "48b9f84f",
   "metadata": {},
   "source": [
    "The MSE of our one-step ahead forecasts yields a value of 0.07, which is very low as it is close to 0. An MSE of 0 would that the estimator is predicting observations of the parameter with perfect accuracy, which would be an ideal scenario but it not typically possible.\n",
    "\n",
    "However, a better representation of our true predictive power can be obtained using dynamic forecasts. In this case, we only use information from the time series up to a certain point, and after that, forecasts are generated using values from previous forecasted time points.\n",
    "\n",
    "In the code chunk below, we specify to start computing the dynamic forecasts and confidence intervals from January 1998 onwards."
   ]
  },
  {
   "cell_type": "code",
   "execution_count": null,
   "id": "febba7ad",
   "metadata": {},
   "outputs": [],
   "source": [
    "pred_dynamic = results.get_prediction(start=pd.to_datetime('1998-01-01'), dynamic=True, full_results=True)\n",
    "pred_dynami_ci = pred_dynamic.conf_int()"
   ]
  },
  {
   "cell_type": "markdown",
   "id": "c70851ec",
   "metadata": {},
   "source": [
    "Plotting the observed and forecasted values of the time series, we see that the overall forecasts are accurate even when using dynamic forecasts. All forecasted values (red line) match pretty closely to the ground truth (blue line), and are well within the confidence intervals of our forecast."
   ]
  },
  {
   "cell_type": "code",
   "execution_count": null,
   "id": "a54365e1",
   "metadata": {},
   "outputs": [],
   "source": [
    "axis = ts['1990':].plot(label='Observed', figsize=(10, 6))\n",
    "pred_dynamic.predicted_mean.plot(ax=axis, label='Dynamic Forecast', alpha=0.7)\n",
    "axis.fill_between(pred_dynami_ci.index, pred_dynami_ci.iloc[:, 0], pred_dynami_ci.iloc[:, 1], color='k', alpha=.25)\n",
    "axis.fill_betweenx(axis.get_ylim(), pd.to_datetime('1998-01-01'), ts.index[-1], alpha=.1, zorder=-1)\n",
    "axis.set_xlabel('Date')\n",
    "axis.set_ylabel('CO2 Levels')\n",
    "plt.legend(loc='best')\n",
    "plt.show()\n",
    "plt.close()"
   ]
  },
  {
   "cell_type": "markdown",
   "id": "8ac57906",
   "metadata": {},
   "source": [
    "Once again, we quantify the predictive performance of our forecasts by computing the MSE:"
   ]
  },
  {
   "cell_type": "code",
   "execution_count": null,
   "id": "0d7e47a3",
   "metadata": {},
   "outputs": [],
   "source": [
    "# Extract the predicted and true values of our time series\n",
    "ts_forecasted = pred_dynamic.predicted_mean\n",
    "ts_truth = ts['1998-01-01':]\n",
    "\n",
    "# Compute the mean square error\n",
    "mse = ((ts_forecasted - ts_truth) ** 2).mean()\n",
    "print('The Mean Squared Error of our forecasts is {}'.format(round(mse, 2)))"
   ]
  },
  {
   "cell_type": "markdown",
   "id": "84895ebf",
   "metadata": {},
   "source": [
    "The predicted values obtained from the dynamic forecasts yield an MSE of 1.01. This is slightly higher than the one-step ahead, which is to be expected given that we are relying on less historical data from the time series.\n",
    "\n",
    "Both the one-step ahead and dynamic forecasts confirm that this time series model is valid. However, much of the interest around time series forecasting is the ability to forecast future values way ahead in time."
   ]
  },
  {
   "cell_type": "markdown",
   "id": "dd1b9933",
   "metadata": {},
   "source": [
    "## Step 7 - Producing and Visualizing Forecasts\n",
    "\n",
    "In the final step of this tutorial, we describe how to leverage our seasonal ARIMA time series model to forecast future values. The get_forecast() attribute of our time series object can compute forecasted values for a specified number of steps ahead."
   ]
  },
  {
   "cell_type": "code",
   "execution_count": null,
   "id": "7e8bae8c",
   "metadata": {},
   "outputs": [],
   "source": [
    "# Get forecast 500 steps ahead in future\n",
    "n_steps = 500\n",
    "pred_uc_99 = results.get_forecast(steps=500, alpha=0.01) # alpha=0.01 signifies 99% confidence interval\n",
    "pred_uc_95 = results.get_forecast(steps=500, alpha=0.05) # alpha=0.05 95% CI\n",
    "\n",
    "# Get confidence intervals of forecasts\n",
    "pred_ci_99 = pred_uc_99.conf_int()\n",
    "pred_ci_95 = pred_uc_95.conf_int()"
   ]
  },
  {
   "cell_type": "code",
   "execution_count": null,
   "id": "57efc2f2",
   "metadata": {},
   "outputs": [],
   "source": [
    "n_steps = 500\n",
    "idx = pd.date_range(ts.index[-1], periods=n_steps, freq='MS')\n",
    "fc_95 = pd.DataFrame(np.column_stack([pred_uc_95.predicted_mean, pred_ci_95]), \n",
    "                     index=idx, columns=['forecast', 'lower_ci_95', 'upper_ci_95'])\n",
    "fc_99 = pd.DataFrame(np.column_stack([pred_ci_99]), \n",
    "                     index=idx, columns=['lower_ci_99', 'upper_ci_99'])\n",
    "fc_all = fc_95.combine_first(fc_99)\n",
    "fc_all.head()"
   ]
  },
  {
   "cell_type": "markdown",
   "id": "cc3591fb",
   "metadata": {},
   "source": [
    "We can use the output of this code to plot the time series and forecasts of its future values."
   ]
  },
  {
   "cell_type": "code",
   "execution_count": null,
   "id": "ba71e083",
   "metadata": {},
   "outputs": [],
   "source": [
    "plt.close()\n",
    "axis = ts.plot(label='Observed', figsize=(15, 6))\n",
    "pred_uc_95.predicted_mean.plot(ax=axis, label='Forecast', alpha=0.7)\n",
    "axis.fill_between(pred_ci_95.index, pred_ci_95.iloc[:, 0], pred_ci_95.iloc[:, 1], color='k', alpha=.25)\n",
    "#axis.fill_between(pred_ci_99.index, pred_ci_99.iloc[:, 0], pred_ci_99.iloc[:, 1], color='b', alpha=.25)\n",
    "axis.set_xlabel('Date')\n",
    "axis.set_ylabel('CO2 Levels')\n",
    "plt.legend(loc='best')\n",
    "plt.show()"
   ]
  },
  {
   "cell_type": "markdown",
   "id": "36a25625",
   "metadata": {},
   "source": [
    "Both the forecasts and associated confidence interval that we have generated can now be used to further understand the time series and foresee what to expect. Our forecasts show that the time series is expected to continue increasing at a steady pace.\n",
    "\n",
    "As we forecast further out into the future, it is natural for us to become less confident in our values. This is reflected by the confidence intervals generated by our model, which grow larger as we move further out into the future."
   ]
  }
 ],
 "metadata": {
  "jupytext": {
   "formats": "ipynb,md:myst"
  },
  "kernelspec": {
   "display_name": "Python 3 (ipykernel)",
   "language": "python",
   "name": "python3"
  },
  "language_info": {
   "codemirror_mode": {
    "name": "ipython",
    "version": 3
   },
   "file_extension": ".py",
   "mimetype": "text/x-python",
   "name": "python",
   "nbconvert_exporter": "python",
   "pygments_lexer": "ipython3",
   "version": "3.12.2"
  }
 },
 "nbformat": 4,
 "nbformat_minor": 5
}
